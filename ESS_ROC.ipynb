{
 "cells": [
  {
   "cell_type": "code",
   "execution_count": 1,
   "id": "ae3eabd6-4437-4047-9915-0c98e69c083d",
   "metadata": {
    "tags": []
   },
   "outputs": [
    {
     "name": "stderr",
     "output_type": "stream",
     "text": [
      "C:\\Users\\jichen\\AppData\\Roaming\\Python\\Python311\\site-packages\\pandas\\core\\arrays\\masked.py:60: UserWarning: Pandas requires version '1.3.6' or newer of 'bottleneck' (version '1.3.5' currently installed).\n",
      "  from pandas.core import (\n"
     ]
    }
   ],
   "source": [
    "import pyreadr\n",
    "import pandas as pd\n",
    "import numpy as np\n",
    "from sklearn.model_selection import train_test_split\n",
    "from sklearn.metrics import roc_curve, auc, accuracy_score, precision_score, recall_score, f1_score, confusion_matrix, roc_auc_score\n",
    "import matplotlib.pyplot as plt\n",
    "pd.options.mode.chained_assignment = None\n",
    "from scipy.stats import norm, pearsonr\n",
    "import plotly.express as px\n",
    "from sklearn.metrics import accuracy_score,  cohen_kappa_score "
   ]
  },
  {
   "cell_type": "code",
   "execution_count": 2,
   "id": "57e56096-e4a9-4b84-877c-cd541845e2da",
   "metadata": {
    "tags": []
   },
   "outputs": [],
   "source": [
    "#pip install --upgrade --user pandas"
   ]
  },
  {
   "cell_type": "code",
   "execution_count": 3,
   "id": "b4d67818-a61f-4532-a51d-0e4795bcbe80",
   "metadata": {
    "tags": []
   },
   "outputs": [
    {
     "data": {
      "text/plain": [
       "'1.3.0'"
      ]
     },
     "execution_count": 3,
     "metadata": {},
     "output_type": "execute_result"
    }
   ],
   "source": [
    "import sklearn\n",
    "sklearn.__version__"
   ]
  },
  {
   "cell_type": "code",
   "execution_count": 4,
   "id": "98f02cd3-2565-49a4-95fb-70eff771e54b",
   "metadata": {
    "tags": []
   },
   "outputs": [],
   "source": [
    "def generate_discrete_data(rho,n,ptile1,ptile2,ptile3):\n",
    "    mean = (0, 0)\n",
    "    cov = [[1, rho], [rho, 1]]\n",
    "    v = np.random.multivariate_normal(mean, cov, (n))\n",
    "    x = v[:,0]\n",
    "    y = v[:,1]\n",
    "    x_cut1 = np.percentile(x,ptile1)\n",
    "    x_cut2 = np.percentile(x,ptile2)\n",
    "    x_cut3 = np.percentile(x,ptile3)\n",
    "    x[x < x_cut1]=1\n",
    "    x[(x >= x_cut1)*(x < x_cut2)*(x !=1)] = 2\n",
    "    x[(x >= x_cut2)*(x < x_cut3)*(x !=1)*(x !=2)] = 3\n",
    "    x[(x >= x_cut3)*(x !=1)*(x !=2)*(x!=3)] = 4\n",
    "    \n",
    "    rho_out = pearsonr(x,y)[0] \n",
    "    df = pd.DataFrame([x,y]).T\n",
    "    df.columns=['ALDs','difficulty_parameter']\n",
    "    fig = px.scatter(df,x='ALDs',y='difficulty_parameter',marginal_y='histogram',color='ALDs'\\\n",
    "                   ,trendline='ols',title='Correlation: '+str(rho_out)[0:4])\n",
    "    fig.update_layout(width=800, height=500)\n",
    "    # fig.show()\n",
    "    # print(df.ALDs.value_counts())\n",
    "    return df"
   ]
  },
  {
   "cell_type": "code",
   "execution_count": 5,
   "id": "469c7e99-2209-4508-ad34-7eb4489e34f6",
   "metadata": {
    "tags": []
   },
   "outputs": [],
   "source": [
    "df = generate_discrete_data(0.8,1000,40, 80, 90)"
   ]
  },
  {
   "cell_type": "code",
   "execution_count": 6,
   "id": "b8f6ef2d-44c1-4ac1-adad-7cdbb02014a2",
   "metadata": {
    "tags": []
   },
   "outputs": [
    {
     "data": {
      "text/html": [
       "<div>\n",
       "<style scoped>\n",
       "    .dataframe tbody tr th:only-of-type {\n",
       "        vertical-align: middle;\n",
       "    }\n",
       "\n",
       "    .dataframe tbody tr th {\n",
       "        vertical-align: top;\n",
       "    }\n",
       "\n",
       "    .dataframe thead th {\n",
       "        text-align: right;\n",
       "    }\n",
       "</style>\n",
       "<table border=\"1\" class=\"dataframe\">\n",
       "  <thead>\n",
       "    <tr style=\"text-align: right;\">\n",
       "      <th></th>\n",
       "      <th>ALDs</th>\n",
       "      <th>difficulty_parameter</th>\n",
       "    </tr>\n",
       "  </thead>\n",
       "  <tbody>\n",
       "    <tr>\n",
       "      <th>0</th>\n",
       "      <td>1.0</td>\n",
       "      <td>-0.778239</td>\n",
       "    </tr>\n",
       "    <tr>\n",
       "      <th>1</th>\n",
       "      <td>4.0</td>\n",
       "      <td>1.405705</td>\n",
       "    </tr>\n",
       "  </tbody>\n",
       "</table>\n",
       "</div>"
      ],
      "text/plain": [
       "   ALDs  difficulty_parameter\n",
       "0   1.0             -0.778239\n",
       "1   4.0              1.405705"
      ]
     },
     "execution_count": 6,
     "metadata": {},
     "output_type": "execute_result"
    }
   ],
   "source": [
    "df.head(2)"
   ]
  },
  {
   "cell_type": "code",
   "execution_count": 101,
   "id": "13883f87-b330-4651-b5c5-ddc573a4c2e0",
   "metadata": {
    "tags": []
   },
   "outputs": [
    {
     "name": "stdout",
     "output_type": "stream",
     "text": [
      "Optimal Threshold (Youden's J): 0.5051168587549894\n",
      "Optimal Threshold (Max Accuracy): 1.461356610144272\n"
     ]
    }
   ],
   "source": [
    "import numpy as np\n",
    "from sklearn.metrics import roc_curve, accuracy_score\n",
    "level_number = '34'\n",
    "ptile = 75\n",
    "data = df.copy()\n",
    "\n",
    "data.loc[data.ALDs ==1, 'ALD12'] = 'low' # recode ALDs to low or high for each ALD cut\n",
    "data.loc[data.ALDs > 1, 'ALD12'] = 'high'\n",
    "data.loc[data.ALDs <=2, 'ALD23'] = 'low'\n",
    "data.loc[data.ALDs > 2, 'ALD23'] = 'high'\n",
    "data.loc[data.ALDs <=3, 'ALD34'] = 'low'\n",
    "data.loc[data.ALDs > 3, 'ALD34'] = 'high'\n",
    "\n",
    "y = data['ALD'+level_number]\n",
    "\n",
    "# Calculate ROC curve and AUC for different cutoffs\n",
    "fpr, tpr, thresholds = roc_curve(y, data['difficulty_parameter'], pos_label='high')\n",
    "\n",
    "# Calculate Youden's J statistic for each threshold\n",
    "youden_index = tpr - fpr\n",
    "\n",
    "# Find the optimal threshold based on maximizing Youden's J statistic\n",
    "optimal_threshold_index = np.argmax(youden_index)\n",
    "optimal_threshold = thresholds[optimal_threshold_index]\n",
    "\n",
    "\n",
    "# Create an empty array to store predicted labels\n",
    "y_pred_labels = []\n",
    "\n",
    "# Assign labels based on the threshold\n",
    "for threshold in thresholds:\n",
    "    y_pred = np.where(data['difficulty_parameter'] >= threshold, 'high', 'low')\n",
    "    y_pred_labels.append(y_pred)\n",
    "\n",
    "# Find the threshold that maximizes accuracy\n",
    "accuracies = [accuracy_score(y, y_pred) for y_pred in y_pred_labels]\n",
    "max_accuracy_index = np.argmax(accuracies)\n",
    "optimal_accuracy_threshold = thresholds[max_accuracy_index]\n",
    "\n",
    "# Print the optimal thresholds\n",
    "print(\"Optimal Threshold (Youden's J):\", optimal_threshold)\n",
    "print(\"Optimal Threshold (Max Accuracy):\", optimal_accuracy_threshold)"
   ]
  },
  {
   "cell_type": "code",
   "execution_count": 97,
   "id": "79aca146-401f-4085-a181-1f4947b047a9",
   "metadata": {
    "tags": []
   },
   "outputs": [
    {
     "data": {
      "text/plain": [
       "0      0\n",
       "1      0\n",
       "2      0\n",
       "3      0\n",
       "4      0\n",
       "      ..\n",
       "995    0\n",
       "996    0\n",
       "997    0\n",
       "998    0\n",
       "999    0\n",
       "Name: difficulty_parameter, Length: 1000, dtype: int32"
      ]
     },
     "execution_count": 97,
     "metadata": {},
     "output_type": "execute_result"
    }
   ],
   "source": [
    "y_pred"
   ]
  },
  {
   "cell_type": "markdown",
   "id": "4daa6578-62ef-4116-9190-70c3f6312ae8",
   "metadata": {},
   "source": [
    "# ROC"
   ]
  },
  {
   "cell_type": "code",
   "execution_count": 7,
   "id": "aec7056c-a3c4-47ab-a690-f3cd18011519",
   "metadata": {
    "tags": []
   },
   "outputs": [],
   "source": [
    "def optimal_cut_roc (data,level_number):# ptile is the percentile for the distribution,\n",
    "    # e.g. ptile = 25 for the first cut of the uniform distribution\n",
    "    # e.g. level_number = '12' for the first cut of the distribution\n",
    "    data.loc[data.ALDs ==1, 'ALD12'] = 'low' # recode ALDs to low or high for each ALD cut\n",
    "    data.loc[data.ALDs > 1, 'ALD12'] = 'high'\n",
    "    data.loc[data.ALDs <=2, 'ALD23'] = 'low'\n",
    "    data.loc[data.ALDs > 2, 'ALD23'] = 'high'\n",
    "    data.loc[data.ALDs <=3, 'ALD34'] = 'low'\n",
    "    data.loc[data.ALDs > 3, 'ALD34'] = 'high'\n",
    "    \n",
    "    y = data['ALD'+level_number]\n",
    "\n",
    "    # Calculate ROC curve and AUC for different cutoffs\n",
    "    fpr, tpr, thresholds = roc_curve(y, data['difficulty_parameter'], pos_label='high')\n",
    "    \n",
    "    roc_auc = auc(fpr, tpr)\n",
    "\n",
    "    # Find the optimal cutoff based on maximizing AUC\n",
    "    optimal_cutoff_index = np.argmax(tpr - fpr)\n",
    "    optimal_cutoff = thresholds[optimal_cutoff_index]\n",
    "    optimal_cutoff = round(optimal_cutoff,2)\n",
    "    \n",
    "    # Create an empty array to store predicted labels\n",
    "    y_pred_labels = []\n",
    "\n",
    "    # Assign labels based on the threshold\n",
    "    for threshold in thresholds:\n",
    "        y_pred = np.where(data['difficulty_parameter'] >= threshold, 'high', 'low')\n",
    "        y_pred_labels.append(y_pred)\n",
    "\n",
    "    # Find the threshold that maximizes accuracy\n",
    "    accuracies = [accuracy_score(y, y_pred) for y_pred in y_pred_labels]\n",
    "    max_accuracy_index = np.argmax(accuracies)\n",
    "    optimal_accuracy_threshold = thresholds[max_accuracy_index]\n",
    "\n",
    "    return (optimal_cutoff, optimal_accuracy_threshold)"
   ]
  },
  {
   "cell_type": "code",
   "execution_count": 8,
   "id": "046a5fdb-0233-4efa-a80b-bd0a21c45663",
   "metadata": {
    "tags": []
   },
   "outputs": [
    {
     "data": {
      "text/plain": [
       "-0.1"
      ]
     },
     "execution_count": 8,
     "metadata": {},
     "output_type": "execute_result"
    }
   ],
   "source": [
    "optimal_cut_roc(df,'12')"
   ]
  },
  {
   "cell_type": "code",
   "execution_count": null,
   "id": "a8c0d901-0fff-4709-932a-94cf64f3c9ca",
   "metadata": {},
   "outputs": [],
   "source": []
  },
  {
   "cell_type": "code",
   "execution_count": 54,
   "id": "b8794a2c-3c46-4994-ac18-91159415981f",
   "metadata": {
    "tags": []
   },
   "outputs": [
    {
     "data": {
      "image/png": "[encoded data removed]",
      "text/plain": [
       "<Figure size 640x480 with 1 Axes>"
      ]
     },
     "metadata": {},
     "output_type": "display_data"
    }
   ],
   "source": [
    "# Plot ROC curve\n",
    "plt.figure()\n",
    "plt.plot(fpr, tpr, color='darkorange', lw=2, label=f'ROC curve (AUC = {roc_auc:.2f})')\n",
    "plt.plot([0, 1], [0, 1], color='navy', lw=2, linestyle='--')\n",
    "plt.xlim([0.0, 1.0])\n",
    "plt.ylim([0.0, 1.05])\n",
    "plt.scatter(fpr[optimal_cutoff_index], tpr[optimal_cutoff_index], color='red', marker='o', \\\n",
    "            label='Optimal (Youden Index) point')\n",
    "plt.text(fpr[optimal_cutoff_index] + 0.02, tpr[optimal_cutoff_index] - 0.02, \\\n",
    "         f'({fpr[optimal_cutoff_index]:.2f}, {tpr[optimal_cutoff_index]:.2f})', color='red')\n",
    "plt.xlabel('False Positive Rate')\n",
    "plt.ylabel('True Positive Rate')\n",
    "plt.title('ROC Curve')\n",
    "plt.legend(loc='lower right')\n",
    "#plt.savefig(result_dir+'roc_curve_new.png')\n",
    "plt.show()"
   ]
  },
  {
   "cell_type": "code",
   "execution_count": null,
   "id": "c7f03d3b-6e09-42cf-b1b8-55298a3a1767",
   "metadata": {},
   "outputs": [],
   "source": []
  },
  {
   "cell_type": "code",
   "execution_count": null,
   "id": "4ea54756-3e3b-42ca-8dce-ed97e5d7a964",
   "metadata": {},
   "outputs": [],
   "source": []
  }
 ],
 "metadata": {
  "kernelspec": {
   "display_name": "Python 3 (ipykernel)",
   "language": "python",
   "name": "python3"
  },
  "language_info": {
   "codemirror_mode": {
    "name": "ipython",
    "version": 3
   },
   "file_extension": ".py",
   "mimetype": "text/x-python",
   "name": "python",
   "nbconvert_exporter": "python",
   "pygments_lexer": "ipython3",
   "version": "3.11.5"
  }
 },
 "nbformat": 4,
 "nbformat_minor": 5
}
